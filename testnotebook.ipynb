{
 "cells": [
  {
   "cell_type": "code",
   "execution_count": 49,
   "metadata": {},
   "outputs": [
    {
     "name": "stdout",
     "output_type": "stream",
     "text": [
      "19.975329196306948\n",
      "20.0\n",
      "5.990594336578764\n",
      "2140\n",
      "<bound method Series.__len__ of 0       67\n",
      "1       61\n",
      "2       74\n",
      "3       71\n",
      "4       70\n",
      "        ..\n",
      "6602    68\n",
      "6603    69\n",
      "6604    68\n",
      "6605    68\n",
      "6606    64\n",
      "Name: Exam_Score, Length: 6607, dtype: int64>\n",
      "sum 4950.279854699561\n",
      "0.1565251853922531\n",
      "[[1.         0.15652519]\n",
      " [0.15652519 1.        ]]\n",
      "<bound method Series.__len__ of 0       67\n",
      "1       61\n",
      "2       74\n",
      "3       71\n",
      "4       70\n",
      "        ..\n",
      "6602    68\n",
      "6603    69\n",
      "6604    68\n",
      "6605    68\n",
      "6606    64\n",
      "Name: Exam_Score, Length: 6607, dtype: int64>\n"
     ]
    }
   ],
   "source": [
    "import pandas\n",
    "import numpy as np\n",
    "HW1 = pandas.read_csv('StudentPerformanceFactors.csv')\n",
    "mean = HW1['Hours_Studied'].mean()\n",
    "print(mean)\n",
    "#print(HW1['Hours_Studied'])\n",
    "median = HW1['Hours_Studied'].median()\n",
    "print(median)\n",
    "SD = HW1['Hours_Studied'].std()\n",
    "print(SD)\n",
    "#print(HW1['Hours_Studied'].to_string(index=False))\\\n",
    "count = 0\n",
    "for index,row in HW1.iterrows():\n",
    "    if (row['Exam_Score'] > row['Previous_Scores']):\n",
    "        count += 1\n",
    "print(count)\n",
    "print(HW1['Exam_Score'].__len__)\n",
    "\n",
    "\n",
    "def Pearson_correlation(X,Y):\n",
    "    if len(X)==len(Y):\n",
    "        Sum_xy = sum((X-X.mean())*(Y-Y.mean()))\n",
    "        print(\"sum\",Sum_xy)\n",
    "        Sum_x_squared = sum((X-X.mean())**2)\n",
    "        Sum_y_squared = sum((Y-Y.mean())**2)       \n",
    "        corr = Sum_xy / np.sqrt(Sum_x_squared * Sum_y_squared)\n",
    "    return corr\n",
    "             \n",
    "print(Pearson_correlation(HW1['Tutoring_Sessions'], HW1['Exam_Score'])) \n",
    "\n",
    "print(np.corrcoef(HW1['Tutoring_Sessions'], HW1['Exam_Score']))\n",
    "print(HW1['Exam_Score'].__len__)\n"
   ]
  },
  {
   "cell_type": "code",
   "execution_count": 54,
   "metadata": {},
   "outputs": [
    {
     "name": "stdout",
     "output_type": "stream",
     "text": [
      "Cosine Similarity: 0.7858751471745714\n",
      "M 0.6330000000000001\n",
      "E 0.23781295170784958\n",
      "Cosine Similarity: 0.7674357275643546\n",
      "M 0.8450383765\n",
      "E 0.35291228550982334\n",
      "Cosine Similarity: 0.7850032348780516\n",
      "M 18\n",
      "E 6.324555320336759\n"
     ]
    }
   ],
   "source": [
    "import numpy as np\n",
    "from numpy.linalg import norm\n",
    "\n",
    "tfidf1 = np.array((0.185,0.111,0.148,0.148,0.037,0.037,0.037,0.111,0.185,0.000))\n",
    "tfidf2 = np.array((0.143,0.048,0.048,0.143,0.095,0.190,0.095,0.095,0.095,0.048))\n",
    "tfidfNorm2 = np.array((0.194,0.136,0.171,0.226,0.074,0.063,0.059,0.203,0.282,0.000))\n",
    "tfidfNorm2 = np.array((0.149,0.058,0.055,0.218,0.190,0.324,0.153,0.174,0.145,0.087))\n",
    "T1 = np.array((5,3,4,4,1,1,1,3,5,0))\n",
    "T2 = np.array((3,1,1,3,2,4,2,2,2,1))\n",
    "EDist = np.linalg.norm(tfidf1 - tfidf2)\n",
    "MDist = np.sum(np.abs(tfidf1 - tfidf2))\n",
    "Cos = np.dot(tfidf1,tfidf2)/(norm(tfidf1)*norm(tfidf2))\n",
    "print(\"Cosine Similarity:\", Cos)\n",
    "print(\"M\",MDist)\n",
    "print(\"E\",EDist)\n",
    "EDistNorm = np.linalg.norm(tfidfNorm1 - tfidfNorm2)\n",
    "MDistNorm = np.sum(np.abs(tfidfNorm1 - tfidfNorm2))\n",
    "CosNorm = np.dot(tfidfNorm1,tfidfNorm2)/(norm(tfidfNorm1)*norm(tfidfNorm2))\n",
    "print(\"Cosine Similarity:\", CosNorm)\n",
    "print(\"M\",MDistNorm)\n",
    "print(\"E\",EDistNorm)\n",
    "EDistFreq = np.linalg.norm(T1 - T2)\n",
    "MDistFreq = np.sum(np.abs(T1 - T2))\n",
    "CosFreq = np.dot(T1,T2)/(norm(T1)*norm(T2))\n",
    "print(\"Cosine Similarity:\", CosFreq)\n",
    "print(\"M\",MDistFreq)\n",
    "print(\"E\",EDistFreq)\n",
    "#Cosine measure is best I think\n",
    "#print(np.sum(np.abs(tfidf1 - tfidf2)))"
   ]
  },
  {
   "cell_type": "markdown",
   "metadata": {},
   "source": [
    "#test\n"
   ]
  },
  {
   "cell_type": "code",
   "execution_count": null,
   "metadata": {},
   "outputs": [],
   "source": [
    "\n"
   ]
  }
 ],
 "metadata": {
  "kernelspec": {
   "display_name": "base",
   "language": "python",
   "name": "python3"
  },
  "language_info": {
   "codemirror_mode": {
    "name": "ipython",
    "version": 3
   },
   "file_extension": ".py",
   "mimetype": "text/x-python",
   "name": "python",
   "nbconvert_exporter": "python",
   "pygments_lexer": "ipython3",
   "version": "3.12.4"
  }
 },
 "nbformat": 4,
 "nbformat_minor": 2
}
